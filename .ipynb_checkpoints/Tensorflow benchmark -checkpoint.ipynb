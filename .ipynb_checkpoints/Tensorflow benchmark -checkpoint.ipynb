{
 "cells": [
  {
   "cell_type": "markdown",
   "metadata": {
    "deletable": true,
    "editable": true
   },
   "source": [
    "# C395"
   ]
  },
  {
   "cell_type": "markdown",
   "metadata": {
    "deletable": true,
    "editable": true
   },
   "source": [
    "# load mat file "
   ]
  },
  {
   "cell_type": "code",
   "execution_count": 38,
   "metadata": {
    "collapsed": false,
    "deletable": true,
    "editable": true
   },
   "outputs": [],
   "source": [
    "import scipy.io as sio\n",
    "from sklearn.model_selection import train_test_split\n",
    "mat_contents = sio.loadmat('./forStudents/noisydata_students.mat')\n",
    "clean_data_x = mat_contents['x']\n",
    "\n",
    "clean_data_y= mat_contents['y']\n",
    "from sklearn.preprocessing import OneHotEncoder\n",
    "enc = OneHotEncoder()\n",
    "enc.fit(clean_data_y) \n",
    "one_hot= enc.transform(clean_data_y)\n",
    "clean_data_x=clean_data_x.astype(float)\n",
    "one_hot= one_hot.toarray()\n",
    "clean_data_x_train=clean_data_x[:894]\n",
    "clean_data_x_testing=clean_data_x[895:]\n",
    "one_hot_train=one_hot[:894]\n",
    "one_hot_testing=one_hot[895:]\n",
    "\n",
    "X_train, X_test, y_train, y_test = train_test_split(clean_data_x, one_hot, test_size=0.1, random_state=0)\n",
    "\n"
   ]
  },
  {
   "cell_type": "code",
   "execution_count": 39,
   "metadata": {
    "collapsed": false,
    "deletable": true,
    "editable": true
   },
   "outputs": [
    {
     "name": "stderr",
     "output_type": "stream",
     "text": [
      "Exception AssertionError: AssertionError(\"Nesting violated for default stack of <type 'weakref'> objects\",) in <bound method InteractiveSession.__del__ of <tensorflow.python.client.session.InteractiveSession object at 0x7f94ff8ecf10>> ignored\n"
     ]
    }
   ],
   "source": [
    "import tensorflow as tf\n",
    "\n",
    "sess=tf.InteractiveSession()\n",
    "\n",
    "x = tf.placeholder(tf.float32, shape=[None, 45])\n",
    "y_ = tf.placeholder(tf.float32, shape=[None, 6])\n",
    "\n",
    "W = tf.Variable(tf.zeros([45,6]))\n",
    "b = tf.Variable(tf.zeros([6]))\n",
    "\n",
    "init=tf.initialize_all_variables()\n",
    "sess.run(init)\n",
    "y=tf.matmul(x,W)+b \n",
    "\n",
    "cross_entropy= tf.reduce_mean(tf.nn.sigmoid_cross_entropy_with_logits(logits=y,targets=y_))\n",
    "\n",
    "train= tf.train.GradientDescentOptimizer(0.5).minimize(cross_entropy)\n",
    "\n",
    "for i in range(5000):\n",
    "    # batch = mnist.train.next_batch(100)\n",
    "    train.run(feed_dict={x: X_train, y_: y_train})\n",
    "\n",
    "    "
   ]
  },
  {
   "cell_type": "code",
   "execution_count": 41,
   "metadata": {
    "collapsed": false,
    "deletable": true,
    "editable": true
   },
   "outputs": [
    {
     "name": "stdout",
     "output_type": "stream",
     "text": [
      "validation error = 0.761194\n",
      "resub error = 0.8175\n"
     ]
    }
   ],
   "source": [
    "corr_pred= tf.equal(tf.arg_max(y,1),tf.arg_max(y_,1))\n",
    "accuracy = tf.reduce_mean(tf.cast(corr_pred, tf.float32))\n",
    "\n",
    "valid= accuracy.eval(feed_dict={x:X_test,y_:y_test})\n",
    "train = accuracy.eval(feed_dict={x:X_train,y_:y_train})\n",
    "print 'validation error = ' + str(valid)\n",
    "print 'resub error = ' + str(train)"
   ]
  },
  {
   "cell_type": "code",
   "execution_count": 32,
   "metadata": {
    "collapsed": false,
    "deletable": true,
    "editable": true
   },
   "outputs": [
    {
     "data": {
      "text/plain": [
       "(903, 45)"
      ]
     },
     "execution_count": 32,
     "metadata": {},
     "output_type": "execute_result"
    }
   ],
   "source": [
    "X_train.shape"
   ]
  },
  {
   "cell_type": "markdown",
   "metadata": {
    "deletable": true,
    "editable": true
   },
   "source": [
    "# CNN"
   ]
  },
  {
   "cell_type": "code",
   "execution_count": null,
   "metadata": {
    "collapsed": true,
    "deletable": true,
    "editable": true
   },
   "outputs": [],
   "source": [
    "def weight_variable(shape):\n",
    "    init_var=tf.truncated_normal(shape,stddev=0.01)\n",
    "    return tf.Variable(init_var)\n",
    "\n",
    "def bias_variable(shape):\n",
    "  initial = tf.constant(0.1, shape=shape)\n",
    "  return tf.Variable(initial)\n",
    "def conv2d(x,W):\n",
    "    return tf.nn.conv2d(x,W,strides=[1,1,1,1],padding='SAME')\n",
    "\n",
    "def max_pooling_2x2(x):\n",
    "    return tf.nn.max_pool(x,ksize=[1,2,2,1],strides=[1,2,2,1],padding='SAME')"
   ]
  },
  {
   "cell_type": "code",
   "execution_count": null,
   "metadata": {
    "collapsed": true,
    "deletable": true,
    "editable": true
   },
   "outputs": [],
   "source": [
    "#  [5,5,1,32]   5,5 size , 1 color channel, 32 - number of output channel(depth of 四边形)  \n",
    "\n",
    "W_conv1= weight_variable([5,5,1,32])\n",
    "b_conv1= bias_variable([32])"
   ]
  }
 ],
 "metadata": {
  "anaconda-cloud": {},
  "kernelspec": {
   "display_name": "Python [conda root]",
   "language": "python",
   "name": "conda-root-py"
  },
  "language_info": {
   "codemirror_mode": {
    "name": "ipython",
    "version": 2
   },
   "file_extension": ".py",
   "mimetype": "text/x-python",
   "name": "python",
   "nbconvert_exporter": "python",
   "pygments_lexer": "ipython2",
   "version": "2.7.12"
  }
 },
 "nbformat": 4,
 "nbformat_minor": 1
}
